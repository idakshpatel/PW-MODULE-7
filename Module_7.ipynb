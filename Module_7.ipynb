{
  "nbformat": 4,
  "nbformat_minor": 0,
  "metadata": {
    "colab": {
      "provenance": []
    },
    "kernelspec": {
      "name": "python3",
      "display_name": "Python 3"
    },
    "language_info": {
      "name": "python"
    }
  },
  "cells": [
    {
      "cell_type": "code",
      "execution_count": 15,
      "metadata": {
        "colab": {
          "base_uri": "https://localhost:8080/",
          "height": 123
        },
        "id": "ZVG6M2tyOLQu",
        "outputId": "62e824e4-dd47-4eec-e6fc-a77ad6d743f1"
      },
      "outputs": [
        {
          "output_type": "execute_result",
          "data": {
            "text/plain": [
              "\"\\nKey Concepts of Object-Oriented Programming (OOP)\\nEncapsulation: Encapsulation is the bundling of data (attributes) and methods (functions) that operate on the data into a single unit or class. It also restricts direct access to some of an object's components, which is a way of preventing accidental or unauthorized modification of data.\\n\\nInheritance: Inheritance allows a class to inherit attributes and methods from another class, promoting code reuse. The class that inherits is called a subclass, and the class being inherited from is called a superclass.\\n\\nPolymorphism: Polymorphism allows methods to do different things based on the object it is acting upon, even though the method name and parameters might be the same. This can be achieved through method overriding or through interfaces.\\n\\nAbstraction: Abstraction involves hiding complex implementation details and showing only the essential features of an object. It helps in managing complexity by allowing the user to interact with the object at a high level.\\n\\nComposition: Composition is a design principle where one class contains a reference to another class, allowing you to build complex types by combining objects from different classes. It is often contrasted with inheritance.\\n\""
            ],
            "application/vnd.google.colaboratory.intrinsic+json": {
              "type": "string"
            }
          },
          "metadata": {},
          "execution_count": 15
        }
      ],
      "source": [
        "'''1. What are the five key concepts Of Object—Oriented Programming (OOP)?'''\n",
        "#ANSWER\n",
        "'''\n",
        "Key Concepts of Object-Oriented Programming (OOP)\n",
        "Encapsulation: Encapsulation is the bundling of data (attributes) and methods (functions) that operate on the data into a single unit or class. It also restricts direct access to some of an object's components, which is a way of preventing accidental or unauthorized modification of data.\n",
        "\n",
        "Inheritance: Inheritance allows a class to inherit attributes and methods from another class, promoting code reuse. The class that inherits is called a subclass, and the class being inherited from is called a superclass.\n",
        "\n",
        "Polymorphism: Polymorphism allows methods to do different things based on the object it is acting upon, even though the method name and parameters might be the same. This can be achieved through method overriding or through interfaces.\n",
        "\n",
        "Abstraction: Abstraction involves hiding complex implementation details and showing only the essential features of an object. It helps in managing complexity by allowing the user to interact with the object at a high level.\n",
        "\n",
        "Composition: Composition is a design principle where one class contains a reference to another class, allowing you to build complex types by combining objects from different classes. It is often contrasted with inheritance.\n",
        "'''"
      ]
    },
    {
      "cell_type": "code",
      "source": [
        "'''2. Write a Python Class for a 'Car' With attributes for •make', •moder, and Include a method to display\n",
        "the information.'''\n",
        "\n",
        "#ANSWER\n",
        "class Car:\n",
        "    def __init__(self, make, model, year):\n",
        "        self.make = make\n",
        "        self.model = model\n",
        "        self.year = year\n",
        "\n",
        "    def display_info(self):\n",
        "        print(f\"Car Make: {self.make}, Model: {self.model}, Year: {self.year}\")\n",
        "\n",
        "# Example Usage\n",
        "my_car = Car(\"Toyota\", \"Corolla\", 2022)\n",
        "my_car.display_info()\n"
      ],
      "metadata": {
        "colab": {
          "base_uri": "https://localhost:8080/"
        },
        "id": "Qrc7GU_cOTkl",
        "outputId": "41bac9fa-a1d4-4102-af1d-13452cf3355d"
      },
      "execution_count": 14,
      "outputs": [
        {
          "output_type": "stream",
          "name": "stdout",
          "text": [
            "Car Make: Toyota, Model: Corolla, Year: 2022\n"
          ]
        }
      ]
    },
    {
      "cell_type": "code",
      "source": [
        "'''3. Explain the difference between instance methods and Class methods. Provide an example Of each.'''\n",
        "#ANSWER\n",
        "'''Instance Methods: These are methods that require an instance of the class to be called. They can access and modify object-specific data (attributes).'''\n",
        "\n",
        "\n",
        "class Dog:\n",
        "    def __init__(self, name):\n",
        "        self.name = name\n",
        "\n",
        "    def bark(self):  # Instance method\n",
        "        print(f\"{self.name} is barking!\")\n",
        "\n",
        "dog = Dog(\"Rex\")\n",
        "dog.bark()\n",
        "'''Class Methods: These methods are bound to the class and not the instance.\n",
        "They can modify the class state that applies across all instances of the class. Class methods are denoted with @classmethod and take cls as their first parameter.\n",
        "'''\n",
        "\n",
        "class Dog:\n",
        "    species = \"Canis lupus familiaris\"\n",
        "\n",
        "    @classmethod\n",
        "    def get_species(cls):  # Class method\n",
        "        return cls.species\n",
        "\n",
        "print(Dog.get_species())\n",
        "\n"
      ],
      "metadata": {
        "colab": {
          "base_uri": "https://localhost:8080/"
        },
        "id": "5Ubw6OCaOTu4",
        "outputId": "28938a7e-dc3a-4faa-d8b6-fbdfb1118d4b"
      },
      "execution_count": 13,
      "outputs": [
        {
          "output_type": "stream",
          "name": "stdout",
          "text": [
            "Rex is barking!\n",
            "Canis lupus familiaris\n"
          ]
        }
      ]
    },
    {
      "cell_type": "code",
      "source": [
        "'''4. HOW does Python implement method overloading? Give an example.'''\n",
        "\n",
        "#ANSWER\n",
        "\n",
        "'''Method Overloading in Python\n",
        "Python does not support method overloading in the traditional sense (same method name with different parameters).\n",
        " Instead, it achieves similar functionality using default arguments or variable-length arguments (*args, **kwargs).'''\n",
        "\n",
        "class MathOperations:\n",
        "    def add(self, a, b, c=0):\n",
        "        return a + b + c\n",
        "\n",
        "# Example Usage\n",
        "math_op = MathOperations()\n",
        "print(math_op.add(2, 3))       # Output: 5\n",
        "print(math_op.add(2, 3, 4))    # Output: 9\n",
        "\n",
        "\n"
      ],
      "metadata": {
        "colab": {
          "base_uri": "https://localhost:8080/"
        },
        "id": "nO59QPiTOTxu",
        "outputId": "4574fdf8-5e7d-421c-c667-83e757960129"
      },
      "execution_count": 12,
      "outputs": [
        {
          "output_type": "stream",
          "name": "stdout",
          "text": [
            "5\n",
            "9\n"
          ]
        }
      ]
    },
    {
      "cell_type": "code",
      "source": [
        "'''5. What are the three types Of access modifiers in Python? HOW are they denoted?'''\n",
        "#ANSWER\n",
        "'''\n",
        "Access Modifiers in Python\n",
        "Python uses name mangling to enforce access control, but it's largely based on conventions:\n",
        "\n",
        "Public: Accessible from anywhere. Denoted by a standard name.\n",
        "Protected: Accessible within the class and its subclasses. Denoted by a single underscore _name.\n",
        "Private: Accessible only within the class. Denoted by a double underscore __name.\n",
        "Example:    '''\n",
        "\n",
        "class Example:\n",
        "    def __init__(self):\n",
        "        self.public_var = \"Public\"\n",
        "        self._protected_var = \"Protected\"\n",
        "        self.__private_var = \"Private\"\n",
        "\n",
        "    def get_private_var(self):\n",
        "        return self.__private_var\n",
        "\n",
        "# Example Usage\n",
        "ex = Example()\n",
        "print(ex.public_var)         # Public\n",
        "print(ex._protected_var)     # Protected\n",
        "print(ex.get_private_var())  # Private\n"
      ],
      "metadata": {
        "colab": {
          "base_uri": "https://localhost:8080/"
        },
        "id": "MbOVykzjOT15",
        "outputId": "f0bd4bc8-a935-4293-a6e1-a5c7b58eea2d"
      },
      "execution_count": 11,
      "outputs": [
        {
          "output_type": "stream",
          "name": "stdout",
          "text": [
            "Public\n",
            "Protected\n",
            "Private\n"
          ]
        }
      ]
    },
    {
      "cell_type": "code",
      "source": [
        "'''6.Describe the five types Of inheritance in Python. Provide a simple example Of multiple inheritance.'''\n",
        "\n",
        "#ANSWER\n",
        "''' Types of Inheritance in Python\n",
        "Single Inheritance: A subclass inherits from one superclass.\n",
        "Multiple Inheritance: A subclass inherits from multiple superclasses.\n",
        "Multilevel Inheritance: A subclass inherits from another subclass.\n",
        "Hierarchical Inheritance: Multiple subclasses inherit from a single superclass.\n",
        "Hybrid Inheritance: A combination of two or more types of inheritance.\n",
        "'''\n",
        "#Example of Multiple Inheritance:\n",
        "class A:\n",
        "    def method_a(self):\n",
        "        print(\"Method A\")\n",
        "\n",
        "class B:\n",
        "    def method_b(self):\n",
        "        print(\"Method B\")\n",
        "\n",
        "class C(A, B):\n",
        "    def method_c(self):\n",
        "        print(\"Method C\")\n",
        "\n",
        "# Example Usage\n",
        "obj = C()\n",
        "obj.method_a()\n",
        "obj.method_b()\n",
        "obj.method_c()\n"
      ],
      "metadata": {
        "colab": {
          "base_uri": "https://localhost:8080/"
        },
        "id": "1z0zW9DqOT5J",
        "outputId": "75e4b274-4c3a-4b62-acc0-265bb99acfbe"
      },
      "execution_count": 10,
      "outputs": [
        {
          "output_type": "stream",
          "name": "stdout",
          "text": [
            "Method A\n",
            "Method B\n",
            "Method C\n"
          ]
        }
      ]
    },
    {
      "cell_type": "code",
      "source": [
        "'''7. What is the Method Resolution Order (MRO) in Python? HOW can you retrieve it programmatically?'''\n",
        "\n",
        "#ANSWER\n",
        "\n",
        "'''\n",
        "Method Resolution Order (MRO) in Python\n",
        "The MRO is the order in which Python looks for a method in a hierarchy of classes. Python uses the C3 linearization algorithm for MRO.\n",
        "\n",
        "Retrieve MRO Programmatically:\n",
        "'''\n",
        "class A: pass\n",
        "class B(A): pass\n",
        "class C(A): pass\n",
        "class D(B, C): pass\n",
        "\n",
        "print(D.mro())\n",
        "\n",
        "\n",
        "\n"
      ],
      "metadata": {
        "colab": {
          "base_uri": "https://localhost:8080/"
        },
        "id": "FiFy7wWOOT8D",
        "outputId": "9daa60f4-53c4-4756-82b4-192d852db529"
      },
      "execution_count": 9,
      "outputs": [
        {
          "output_type": "stream",
          "name": "stdout",
          "text": [
            "[<class '__main__.D'>, <class '__main__.B'>, <class '__main__.C'>, <class '__main__.A'>, <class 'object'>]\n"
          ]
        }
      ]
    },
    {
      "cell_type": "code",
      "source": [
        "'''8. Create an abstract base class 'Shape' With an abstract method •area()-. Then create two subclasses\n",
        "'Circle' and 'Rectangle' that implement the method.'''\n",
        "\n",
        "\n",
        "#ANSWER\n",
        "\n",
        "from abc import ABC, abstractmethod\n",
        "\n",
        "class Shape(ABC):\n",
        "    @abstractmethod\n",
        "    def area(self):\n",
        "        pass\n",
        "\n",
        "class Circle(Shape):\n",
        "    def __init__(self, radius):\n",
        "        self.radius = radius\n",
        "\n",
        "    def area(self):\n",
        "        return 3.14 * self.radius ** 2\n",
        "\n",
        "class Rectangle(Shape):\n",
        "    def __init__(self, length, width):\n",
        "        self.length = length\n",
        "        self.width = width\n",
        "\n",
        "    def area(self):\n",
        "        return self.length * self.width\n",
        "\n",
        "# Example Usage\n",
        "shapes = [Circle(5), Rectangle(4, 6)]\n",
        "for shape in shapes:\n",
        "    print(shape.area())\n"
      ],
      "metadata": {
        "colab": {
          "base_uri": "https://localhost:8080/"
        },
        "id": "ggi917-xOT--",
        "outputId": "0d111a8d-26d6-4d76-c215-eaa83c43a68e"
      },
      "execution_count": 8,
      "outputs": [
        {
          "output_type": "stream",
          "name": "stdout",
          "text": [
            "78.5\n",
            "24\n"
          ]
        }
      ]
    },
    {
      "cell_type": "code",
      "source": [
        "'''9. Demonstrate polymorphism by creating a function that can work With different shape objects to calculate\n",
        "and print their areas.'''\n",
        "\n",
        "#ANSWER\n",
        "def print_area(shape):\n",
        "    print(f\"The area is: {shape.area()}\")\n",
        "\n",
        "# Example Usage\n",
        "shapes = [Circle(5), Rectangle(4, 6)]\n",
        "for shape in shapes:\n",
        "    print_area(shape)\n"
      ],
      "metadata": {
        "id": "suHLPqHeOUCI"
      },
      "execution_count": 15,
      "outputs": []
    },
    {
      "cell_type": "code",
      "source": [
        "'''10.Implement encapsulation in a *BankAceount• class With private attributes for 'balance' and\n",
        "Include methods for deposit, Withdrawal, and balance inquiry.'''\n",
        "\n",
        "#ANSWER\n",
        "\n",
        "\n",
        "class BankAccount:\n",
        "    def __init__(self, balance=0):\n",
        "        self.__balance = balance\n",
        "\n",
        "    def deposit(self, amount):\n",
        "        self.__balance += amount\n",
        "\n",
        "    def withdraw(self, amount):\n",
        "        if amount > self.__balance:\n",
        "            print(\"Insufficient funds\")\n",
        "        else:\n",
        "            self.__balance -= amount\n",
        "\n",
        "    def get_balance(self):\n",
        "        return self.__balance\n",
        "\n",
        "# Example Usage\n",
        "account = BankAccount(100)\n",
        "account.deposit(50)\n",
        "account.withdraw(30)\n",
        "print(account.get_balance())\n"
      ],
      "metadata": {
        "colab": {
          "base_uri": "https://localhost:8080/"
        },
        "id": "w6ye88cLOUE9",
        "outputId": "ecd26406-51be-404d-a3b1-4fe96a6d3162"
      },
      "execution_count": 6,
      "outputs": [
        {
          "output_type": "stream",
          "name": "stdout",
          "text": [
            "120\n"
          ]
        }
      ]
    },
    {
      "cell_type": "code",
      "source": [
        "'''11.Write a Class that overrides the __str__• and _ _ add _ magic methods. What Will these methods allow\n",
        "you to do?'''\n",
        "\n",
        "#ANSWER\n",
        "\n",
        "class Number:\n",
        "    def __init__(self, value):\n",
        "        self.value = value\n",
        "\n",
        "    def __str__(self):\n",
        "        return f\"Number: {self.value}\"\n",
        "\n",
        "    def __add__(self, other):\n",
        "        return Number(self.value + other.value)\n",
        "\n",
        "# Example Usage\n",
        "num1 = Number(10)\n",
        "num2 = Number(20)\n",
        "num3 = num1 + num2\n",
        "print(num3)  # Number: 30\n"
      ],
      "metadata": {
        "colab": {
          "base_uri": "https://localhost:8080/"
        },
        "id": "sRTCJnGnOUID",
        "outputId": "13f110a6-46c7-4eaa-a555-9494af54cff9"
      },
      "execution_count": 5,
      "outputs": [
        {
          "output_type": "stream",
          "name": "stdout",
          "text": [
            "Number: 30\n"
          ]
        }
      ]
    },
    {
      "cell_type": "code",
      "source": [
        "'''12. Create a decorator that meaSUreS and prints the execution time Of a function.\n",
        "'''\n",
        "#ANSWER\n",
        "import time\n",
        "\n",
        "def time_it(func):\n",
        "    def wrapper(*args, **kwargs):\n",
        "        start_time = time.time()\n",
        "        result = func(*args, **kwargs)\n",
        "        end_time = time.time()\n",
        "        print(f\"Execution time: {end_time - start_time} seconds\")\n",
        "        return result\n",
        "    return wrapper\n",
        "\n",
        "# Example Usage\n",
        "@time_it\n",
        "def compute_square(n):\n",
        "    return n * n\n",
        "\n",
        "print(compute_square(5))\n"
      ],
      "metadata": {
        "colab": {
          "base_uri": "https://localhost:8080/"
        },
        "id": "7AaWsmQ-WlNU",
        "outputId": "ff337405-252d-4e29-ece6-7d7a676d1a7e"
      },
      "execution_count": 4,
      "outputs": [
        {
          "output_type": "stream",
          "name": "stdout",
          "text": [
            "Execution time: 1.1920928955078125e-06 seconds\n",
            "25\n"
          ]
        }
      ]
    },
    {
      "cell_type": "code",
      "source": [
        "'''13. Explain the concept Of the Diamond Problem in multiple inheritance. HOW does python resolve it?'''\n",
        "\n",
        "#ANSWER\n",
        "\n",
        "\n",
        "class A:\n",
        "    def method(self):\n",
        "        print(\"A\")\n",
        "\n",
        "class B(A):\n",
        "    def method(self):\n",
        "        print(\"B\")\n",
        "\n",
        "class C(A):\n",
        "    def method(self):\n",
        "        print(\"C\")\n",
        "\n",
        "class D(B, C):\n",
        "    pass\n",
        "\n",
        "# Example Usage\n",
        "d = D()\n",
        "d.method()  # Output: B (MRO resolves the conflict, prioritizing B over C)\n"
      ],
      "metadata": {
        "colab": {
          "base_uri": "https://localhost:8080/"
        },
        "id": "3boMr2f1WlI4",
        "outputId": "01c64f9d-4bbc-4fa7-8308-6d03d9a29709"
      },
      "execution_count": 3,
      "outputs": [
        {
          "output_type": "stream",
          "name": "stdout",
          "text": [
            "B\n"
          ]
        }
      ]
    },
    {
      "cell_type": "code",
      "source": [
        "#14. Write a Class method that keeps track Of the number Of instances created from a Class.\n",
        "\n",
        "\n",
        "\n",
        "\n",
        "\n",
        "#ANSWER\n",
        "\n",
        "\n",
        "\n",
        "class Counter:\n",
        "    instance_count = 0\n",
        "\n",
        "    def __init__(self):\n",
        "        Counter.instance_count += 1\n",
        "\n",
        "    @classmethod\n",
        "    def get_instance_count(cls):\n",
        "        return cls.instance_count\n",
        "\n",
        "# Example Usage\n",
        "a = Counter()\n",
        "b = Counter()\n",
        "c = Counter()\n",
        "print(Counter.get_instance_count())  # Output: 3\n"
      ],
      "metadata": {
        "colab": {
          "base_uri": "https://localhost:8080/"
        },
        "id": "aSH8Vkb4WlCE",
        "outputId": "21219fd1-b35d-439e-88a9-535bb65281cd"
      },
      "execution_count": 2,
      "outputs": [
        {
          "output_type": "stream",
          "name": "stdout",
          "text": [
            "3\n"
          ]
        }
      ]
    },
    {
      "cell_type": "code",
      "source": [
        "# 15. Implement a Static method in a Class that checks if a given year is a leap year.   answer in detail\n",
        "\n",
        "#ANSWER\n",
        "\n",
        "class DateUtility:\n",
        "    @staticmethod\n",
        "    def is_leap_year(year):\n",
        "        if (year % 4 == 0 and year % 100 != 0) or (year % 400 == 0):\n",
        "            return True\n",
        "        return False\n",
        "\n",
        "# Example Usage\n",
        "print(DateUtility.is_leap_year(2024))  # Output: True\n",
        "\n",
        "\n"
      ],
      "metadata": {
        "colab": {
          "base_uri": "https://localhost:8080/"
        },
        "id": "MDHpEzV1OUMF",
        "outputId": "fc066345-3e7d-4b91-880d-41a1407125a4"
      },
      "execution_count": 1,
      "outputs": [
        {
          "output_type": "stream",
          "name": "stdout",
          "text": [
            "True\n"
          ]
        }
      ]
    }
  ]
}